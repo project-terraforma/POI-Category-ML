{
 "cells": [
  {
   "cell_type": "markdown",
   "id": "366e2acc",
   "metadata": {},
   "source": [
    "# ML Pipeline Implementation \n",
    "\n",
    "## Goal: \n",
    "- Implement Hugging Face Text Embedding\n",
    "- One model to categorize locations based on names,\n",
    "- One model to categorize locations based on other attributes (maybe reviews?)\n",
    "- Implement CNN model pipeline \n",
    "- Implement confidence score"
   ]
  },
  {
   "cell_type": "code",
   "execution_count": 2,
   "id": "6d70bb5e",
   "metadata": {},
   "outputs": [
    {
     "name": "stdout",
     "output_type": "stream",
     "text": [
      "Note: you may need to restart the kernel to use updated packages.\n",
      "Note: you may need to restart the kernel to use updated packages.\n"
     ]
    }
   ],
   "source": [
    "%pip install apache_beam>=2.53.0 --quiet\n",
    "%pip install sentence-transformers --quiet"
   ]
  },
  {
   "cell_type": "code",
   "execution_count": null,
   "id": "af611b25",
   "metadata": {},
   "outputs": [],
   "source": [
    "import tempfile\n",
    "import apache_beam as beam\n",
    "from apache_beam.ml.transforms.base import MLTransform\n",
    "from apache_beam.ml.transforms.embeddings.huggingface import SentenceTransformerEmbeddings"
   ]
  },
  {
   "cell_type": "code",
   "execution_count": null,
   "id": "02c6e1c4",
   "metadata": {},
   "outputs": [],
   "source": []
  }
 ],
 "metadata": {
  "kernelspec": {
   "display_name": "Python 3",
   "language": "python",
   "name": "python3"
  },
  "language_info": {
   "codemirror_mode": {
    "name": "ipython",
    "version": 3
   },
   "file_extension": ".py",
   "mimetype": "text/x-python",
   "name": "python",
   "nbconvert_exporter": "python",
   "pygments_lexer": "ipython3",
   "version": "3.10.12"
  }
 },
 "nbformat": 4,
 "nbformat_minor": 5
}
